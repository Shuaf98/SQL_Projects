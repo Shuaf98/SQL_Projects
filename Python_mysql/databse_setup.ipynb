{
 "cells": [
  {
   "cell_type": "code",
   "execution_count": 1,
   "metadata": {},
   "outputs": [],
   "source": [
    "import mysql.connector\n",
    "import pandas as pd"
   ]
  },
  {
   "cell_type": "code",
   "execution_count": 2,
   "metadata": {},
   "outputs": [],
   "source": [
    "conn = mysql.connector.connect(host =  \"localhost\",\r\n",
    "                                user = \"root\",\r\n",
    "                                passwd = \"root\",\r\n",
    "                                database= \"pythonpractice\", #created this db in the next script.\r\n",
    "                                port = \"3306\")\r\n",
    "mycursor= conn.cursor()"
   ]
  },
  {
   "cell_type": "code",
   "execution_count": null,
   "metadata": {},
   "outputs": [],
   "source": [
    "#mycursor.execute(\"CREATE DATABASE pythonpractice\") #-- creates the database"
   ]
  },
  {
   "cell_type": "code",
   "execution_count": 7,
   "metadata": {},
   "outputs": [],
   "source": [
    "mycursor.execute(\"DROP TABLE IF EXISTS practice\") #Drops the table in case it already exists. Could get an error                                          on the first run.\r\n",
    "mycursor.execute(\"CREATE TABLE practice (id INT PRIMARY KEY AUTO_INCREMENT, FirstName VARCHAR(20), LastName VARCHAR(20), Number INT)\") #Autoincrement allows for unique primary keys on each entry.\r\n"
   ]
  },
  {
   "cell_type": "code",
   "execution_count": 8,
   "metadata": {},
   "outputs": [
    {
     "name": "stdout",
     "output_type": "stream",
     "text": [
      "('id', b'int', 'NO', 'PRI', None, 'auto_increment')\n",
      "('FirstName', b'varchar(20)', 'YES', '', None, '')\n",
      "('LastName', b'varchar(20)', 'YES', '', None, '')\n",
      "('Number', b'int', 'YES', '', None, '')\n"
     ]
    }
   ],
   "source": [
    "##Describes the structure of the table\r\n",
    "\r\n",
    "mycursor.execute(\"DESCRIBE practice\")\r\n",
    "\r\n",
    "for x in mycursor:\r\n",
    "    print(x)"
   ]
  },
  {
   "cell_type": "code",
   "execution_count": 14,
   "metadata": {},
   "outputs": [],
   "source": [
    "###Insert values\r\n",
    "mycursor.execute(\"INSERT INTO practice VALUES (0, 'Rochel', 'Friedman', 70)\")\r\n",
    "                #\"INSERT INTO practice (FirstName, LastName, Number) Values (%s, %s, %s)\", ('Shua', 'Friedman', 23))\r\n",
    "conn.commit()\r\n",
    "conn.close()"
   ]
  },
  {
   "cell_type": "code",
   "execution_count": 10,
   "metadata": {},
   "outputs": [
    {
     "name": "stdout",
     "output_type": "stream",
     "text": [
      "(1, 'Rochel', 'Friedman', 70)\n"
     ]
    }
   ],
   "source": [
    "###Show Table in editor\n",
    "mycursor.execute(\"SELECT * FROM practice\")\n",
    "for x in mycursor:\n",
    "    print(x)"
   ]
  },
  {
   "cell_type": "code",
   "execution_count": 11,
   "metadata": {},
   "outputs": [
    {
     "data": {
      "text/html": [
       "<div>\n",
       "<style scoped>\n",
       "    .dataframe tbody tr th:only-of-type {\n",
       "        vertical-align: middle;\n",
       "    }\n",
       "\n",
       "    .dataframe tbody tr th {\n",
       "        vertical-align: top;\n",
       "    }\n",
       "\n",
       "    .dataframe thead th {\n",
       "        text-align: right;\n",
       "    }\n",
       "</style>\n",
       "<table border=\"1\" class=\"dataframe\">\n",
       "  <thead>\n",
       "    <tr style=\"text-align: right;\">\n",
       "      <th></th>\n",
       "      <th>id</th>\n",
       "      <th>FirstName</th>\n",
       "      <th>LastName</th>\n",
       "      <th>Number</th>\n",
       "    </tr>\n",
       "  </thead>\n",
       "  <tbody>\n",
       "    <tr>\n",
       "      <th>0</th>\n",
       "      <td>1</td>\n",
       "      <td>Rochel</td>\n",
       "      <td>Friedman</td>\n",
       "      <td>70</td>\n",
       "    </tr>\n",
       "  </tbody>\n",
       "</table>\n",
       "</div>"
      ],
      "text/plain": [
       "   id FirstName  LastName  Number\n",
       "0   1    Rochel  Friedman      70"
      ]
     },
     "execution_count": 11,
     "metadata": {},
     "output_type": "execute_result"
    }
   ],
   "source": [
    "##Use pandas to show the table\n",
    "practice_table = pd.read_sql_query(\"SELECT * FROM pythonpractice.practice\", conn)\n",
    "practice_table"
   ]
  },
  {
   "cell_type": "code",
   "execution_count": 21,
   "metadata": {},
   "outputs": [
    {
     "data": {
      "text/html": [
       "<div>\n",
       "<style scoped>\n",
       "    .dataframe tbody tr th:only-of-type {\n",
       "        vertical-align: middle;\n",
       "    }\n",
       "\n",
       "    .dataframe tbody tr th {\n",
       "        vertical-align: top;\n",
       "    }\n",
       "\n",
       "    .dataframe thead th {\n",
       "        text-align: right;\n",
       "    }\n",
       "</style>\n",
       "<table border=\"1\" class=\"dataframe\">\n",
       "  <thead>\n",
       "    <tr style=\"text-align: right;\">\n",
       "      <th></th>\n",
       "      <th>Tables_in_new_schema</th>\n",
       "    </tr>\n",
       "  </thead>\n",
       "  <tbody>\n",
       "    <tr>\n",
       "      <th>0</th>\n",
       "      <td>departments</td>\n",
       "    </tr>\n",
       "    <tr>\n",
       "      <th>1</th>\n",
       "      <td>employees</td>\n",
       "    </tr>\n",
       "    <tr>\n",
       "      <th>2</th>\n",
       "      <td>job_history</td>\n",
       "    </tr>\n",
       "    <tr>\n",
       "      <th>3</th>\n",
       "      <td>jobs</td>\n",
       "    </tr>\n",
       "    <tr>\n",
       "      <th>4</th>\n",
       "      <td>locations</td>\n",
       "    </tr>\n",
       "  </tbody>\n",
       "</table>\n",
       "</div>"
      ],
      "text/plain": [
       "  Tables_in_new_schema\n",
       "0          departments\n",
       "1            employees\n",
       "2          job_history\n",
       "3                 jobs\n",
       "4            locations"
      ]
     },
     "execution_count": 21,
     "metadata": {},
     "output_type": "execute_result"
    }
   ],
   "source": [
    "##DATABASE WITH MULTIPLE TABLES\r\n",
    "#This code will display all of the tables in a database.\r\n",
    "conn = mysql.connector.connect(host =  \"localhost\",\r\n",
    "                                user = \"root\",\r\n",
    "                                passwd = \"root\",\r\n",
    "                                database= \"new_schema\") \r\n",
    "mycursor= conn.cursor()\r\n",
    "show_database_tables = pd.read_sql_query(\"SHOW TABLES FROM new_schema\", conn)\r\n",
    "show_database_tables"
   ]
  },
  {
   "cell_type": "code",
   "execution_count": 22,
   "metadata": {},
   "outputs": [
    {
     "name": "stdout",
     "output_type": "stream",
     "text": [
      "departments\n",
      "         Field            Type Null  Key Default Extra\n",
      "0  DEPT_ID_DEP      b'char(9)'   NO  PRI    None      \n",
      "1     DEP_NAME  b'varchar(15)'  YES         None      \n",
      "2   MANAGER_ID      b'char(9)'  YES         None      \n",
      "3       LOC_ID      b'char(9)'  YES         None       /n\n",
      "employees\n",
      "         Field              Type Null  Key Default Extra\n",
      "0       EMP_ID        b'char(9)'   NO  PRI    None      \n",
      "1       F_NAME    b'varchar(15)'   NO         None      \n",
      "2       L_NAME    b'varchar(15)'   NO         None      \n",
      "3          SSN        b'char(9)'  YES         None      \n",
      "4       B_DATE    b'varchar(10)'  YES         None      \n",
      "5          SEX        b'char(1)'  YES         None      \n",
      "6      ADDRESS    b'varchar(30)'  YES         None      \n",
      "7       JOB_ID        b'char(9)'  YES         None      \n",
      "8       SALARY  b'decimal(10,2)'  YES         None      \n",
      "9   MANAGER_ID        b'char(9)'  YES         None      \n",
      "10      DEP_ID        b'char(9)'   NO         None       /n\n",
      "job_history\n",
      "        Field            Type Null  Key Default Extra\n",
      "0     EMPL_ID      b'char(9)'   NO  PRI    None      \n",
      "1  START_DATE  b'varchar(10)'  YES         None      \n",
      "2     JOBS_ID      b'char(9)'   NO  PRI    None      \n",
      "3     DEPT_ID      b'char(9)'  YES         None       /n\n",
      "jobs\n",
      "        Field              Type Null  Key Default Extra\n",
      "0   JOB_IDENT        b'char(9)'   NO  PRI    None      \n",
      "1   JOB_TITLE    b'varchar(15)'  YES         None      \n",
      "2  MIN_SALARY  b'decimal(10,2)'  YES         None      \n",
      "3  MAX_SALARY  b'decimal(10,2)'  YES         None       /n\n",
      "locations\n",
      "        Field        Type Null  Key Default Extra\n",
      "0     LOCT_ID  b'char(9)'   NO  PRI    None      \n",
      "1  DEP_ID_LOC  b'char(9)'   NO  PRI    None       /n\n"
     ]
    }
   ],
   "source": [
    "###Show the schema for all tables in a database\r\n",
    "tables = show_database_tables['Tables_in_new_schema'] #This is the title of the table created above.\r\n",
    "for table_name in tables:\r\n",
    "    output = pd.read_sql_query(\"DESCRIBE {}\" .format(table_name), conn)\r\n",
    "    print(table_name)\r\n",
    "    print(output, '/n')\r\n",
    "conn.close()"
   ]
  },
  {
   "cell_type": "code",
   "execution_count": null,
   "metadata": {},
   "outputs": [],
   "source": []
  }
 ],
 "metadata": {
  "interpreter": {
   "hash": "9b8ab61c9e77274f2d446992832627a1a97087245ff5de8b0d11c3c770be55a5"
  },
  "kernelspec": {
   "display_name": "Python 3.9.1 64-bit",
   "name": "python3"
  },
  "language_info": {
   "codemirror_mode": {
    "name": "ipython",
    "version": 3
   },
   "file_extension": ".py",
   "mimetype": "text/x-python",
   "name": "python",
   "nbconvert_exporter": "python",
   "pygments_lexer": "ipython3",
   "version": "3.9.1"
  },
  "orig_nbformat": 2
 },
 "nbformat": 4,
 "nbformat_minor": 2
}